{
 "cells": [
  {
   "cell_type": "code",
   "execution_count": 1,
   "metadata": {},
   "outputs": [
    {
     "name": "stderr",
     "output_type": "stream",
     "text": [
      "Using TensorFlow backend.\n"
     ]
    },
    {
     "name": "stdout",
     "output_type": "stream",
     "text": [
      "2.3.0\n"
     ]
    }
   ],
   "source": [
    "from __future__ import print_function\n",
    "import gensim\n",
    "print(gensim.__version__)"
   ]
  },
  {
   "cell_type": "code",
   "execution_count": 2,
   "metadata": {
    "collapsed": true
   },
   "outputs": [],
   "source": [
    "from gensim.models import KeyedVectors"
   ]
  },
  {
   "cell_type": "code",
   "execution_count": 3,
   "metadata": {
    "collapsed": true
   },
   "outputs": [],
   "source": [
    "\n",
    "# Creating the model\n",
    "en_model = KeyedVectors.load_word2vec_format('wiki.te.vec')"
   ]
  },
  {
   "cell_type": "code",
   "execution_count": 4,
   "metadata": {},
   "outputs": [
    {
     "name": "stdout",
     "output_type": "stream",
     "text": [
      "Number of Tokens: 222613\n",
      "Dimension of a word vector: 300\n"
     ]
    }
   ],
   "source": [
    "# Getting the tokens \n",
    "words = []\n",
    "for word in en_model.vocab:\n",
    "    words.append(word)\n",
    "\n",
    "# Printing out number of tokens available\n",
    "print(\"Number of Tokens: {}\".format(len(words)))\n",
    "\n",
    "# Printing out the dimension of a word vector \n",
    "print(\"Dimension of a word vector: {}\".format(\n",
    "    len(en_model[words[0]])\n",
    "))\n"
   ]
  },
  {
   "cell_type": "code",
   "execution_count": 55,
   "metadata": {},
   "outputs": [
    {
     "name": "stdout",
     "output_type": "stream",
     "text": [
      "Word: chirutha, Similarity: 0.87\n",
      "Word: ranganayakamma, Similarity: 0.86\n",
      "Word: chili, Similarity: 0.86\n",
      "Word: gangamma, Similarity: 0.86\n",
      "Word: chelumagari, Similarity: 0.86\n",
      "Word: kanchikamakoti, Similarity: 0.86\n",
      "Word: purushothama, Similarity: 0.86\n",
      "Word: chintamani, Similarity: 0.86\n",
      "Word: chiranjeevi, Similarity: 0.86\n",
      "Word: chinmaya, Similarity: 0.85\n"
     ]
    }
   ],
   "source": [
    "# Pick a word \n",
    "find_similar_to = 'chilakamma'\n",
    "\n",
    "# Finding out similar words [default= top 10]\n",
    "for similar_word in en_model.similar_by_word(find_similar_to):\n",
    "    print(\"Word: {0}, Similarity: {1:.2f}\".format(\n",
    "        similar_word[0], similar_word[1]\n",
    "))"
   ]
  },
  {
   "cell_type": "code",
   "execution_count": 60,
   "metadata": {},
   "outputs": [
    {
     "name": "stdout",
     "output_type": "stream",
     "text": [
      "Word : kamma , Similarity: 0.84\n",
      "Word : ranganayakamma , Similarity: 0.79\n",
      "Word : sivaganga , Similarity: 0.79\n",
      "Word : sarojini , Similarity: 0.78\n",
      "Word : ammavaru , Similarity: 0.78\n",
      "Word : chilakamma , Similarity: 0.77\n",
      "Word : sahyadri , Similarity: 0.77\n",
      "Word : nayaka , Similarity: 0.77\n",
      "Word : padmanabhuni , Similarity: 0.77\n",
      "Word : samadhi , Similarity: 0.77\n"
     ]
    }
   ],
   "source": [
    "\n",
    "# Test words \n",
    "word_add = ['ganga', 'amma']\n",
    "word_sub = ['gangamma']\n",
    "\n",
    "# Word vector addition and subtraction \n",
    "for resultant_word in en_model.most_similar(\n",
    "    positive=word_add, negative=word_sub\n",
    "):\n",
    "    print(\"Word : {0} , Similarity: {1:.2f}\".format(\n",
    "        resultant_word[0], resultant_word[1]\n",
    "))"
   ]
  },
  {
   "cell_type": "markdown",
   "metadata": {},
   "source": []
  },
  {
   "cell_type": "code",
   "execution_count": null,
   "metadata": {
    "collapsed": true
   },
   "outputs": [],
   "source": []
  }
 ],
 "metadata": {
  "kernelspec": {
   "display_name": "Python 2",
   "language": "python",
   "name": "python2"
  },
  "language_info": {
   "codemirror_mode": {
    "name": "ipython",
    "version": 2
   },
   "file_extension": ".py",
   "mimetype": "text/x-python",
   "name": "python",
   "nbconvert_exporter": "python",
   "pygments_lexer": "ipython2",
   "version": "2.7.13"
  }
 },
 "nbformat": 4,
 "nbformat_minor": 2
}
